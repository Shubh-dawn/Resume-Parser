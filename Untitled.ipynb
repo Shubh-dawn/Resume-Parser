{
 "cells": [
  {
   "cell_type": "code",
   "execution_count": null,
   "id": "ce2016a2",
   "metadata": {},
   "outputs": [],
   "source": [
    "#importing libraries\n",
    "\n",
    "from pdfminer.converter import TextConverter\n",
    "from pdfminer.pdfinterp import PDFPageInterpreter\n",
    "from pdfminer.pdfinterp import PDFResourceManager\n",
    "from pdfminer.pdfpage import PDFPage\n",
    "#from spacy.matcher import Matcher\n",
    "import io\n",
    "import docx2txt"
   ]
  },
  {
   "cell_type": "code",
   "execution_count": null,
   "id": "7dfaf6ab",
   "metadata": {},
   "outputs": [],
   "source": [
    "from pdfminer.layout import LAParams"
   ]
  },
  {
   "cell_type": "code",
   "execution_count": null,
   "id": "b625d53d",
   "metadata": {},
   "outputs": [],
   "source": [
    "#method to extract text from pdf\n",
    "\n",
    "def extract_text_from_pdf(pdf_path):\n",
    "    with open(pdf_path, 'rb') as fh:\n",
    "        # iterate over all pages of PDF document\n",
    "        for page in PDFPage.get_pages(fh, caching=True, check_extractable=True):\n",
    "            # creating a resoure manager\n",
    "            resource_manager = PDFResourceManager()\n",
    "            laparams = LAParams()\n",
    "            codec='utf-8'\n",
    "            \n",
    "            # create a file handle\n",
    "            fake_file_handle = io.StringIO()\n",
    "            \n",
    "            # creating a text converter object\n",
    "            converter = TextConverter(resource_manager, \n",
    "                                    fake_file_handle,laparams=laparams) \n",
    "\n",
    "            # creating a page interpreter\n",
    "            page_interpreter = PDFPageInterpreter(\n",
    "                                resource_manager, \n",
    "                                converter\n",
    "                            )\n",
    "\n",
    "            # process current page\n",
    "            page_interpreter.process_page(page)\n",
    "            \n",
    "            # extract text\n",
    "            text = fake_file_handle.getvalue()\n",
    "            yield text\n",
    "\n",
    "            # close open handles\n",
    "            converter.close()\n",
    "            fake_file_handle.close()\n",
    "\n",
    "# calling above function and extracting text\n",
    "text=\"\"\n",
    "for page in extract_text_from_pdf('S:/Documents/latest.pdf'):\n",
    "    text += ' ' + page\n",
    "    \n",
    "print(text)"
   ]
  },
  {
   "cell_type": "code",
   "execution_count": null,
   "id": "47d397bd",
   "metadata": {},
   "outputs": [],
   "source": [
    "#method to extract text from a docx\n",
    "\n",
    "def extract_text_from_doc(doc_path):\n",
    "    temp = docx2txt.process(doc_path)\n",
    "    text = [line.replace('\\t', ' ') for line in temp.split('\\n') if line]\n",
    "    return ' '.join(text)\n",
    "\n",
    "print(extract_text_from_doc(\"S:/Documents/cv.docx\"))"
   ]
  },
  {
   "cell_type": "code",
   "execution_count": null,
   "id": "c4950bef",
   "metadata": {},
   "outputs": [],
   "source": [
    "import spacy\n",
    "from spacy.matcher import Matcher\n",
    "\n",
    "import en_core_web_sm\n",
    "# load pre-trained model\n",
    "nlp = spacy.load('en_core_web_sm')\n",
    "matcher = Matcher(nlp.vocab)"
   ]
  },
  {
   "cell_type": "code",
   "execution_count": null,
   "id": "9c337237",
   "metadata": {},
   "outputs": [],
   "source": [
    "#Extracting the Email\n",
    "\n",
    "def extract_email(email):\n",
    "\n",
    "    pattern =[{\"LIKE_EMAIL\":True}]\n",
    "    matcher.add(\"EMAIL\",[pattern])\n",
    "\n",
    "    # text = \"You can contact Data Science Learner through email address contact@datasciencelearner.com\"\n",
    "    doc = nlp(text)\n",
    "    matches = matcher(doc)\n",
    "\n",
    "    for match_id,start,end in matches:\n",
    "        return doc[start:end]\n",
    "        \n",
    "print(extract_email(text))"
   ]
  },
  {
   "cell_type": "code",
   "execution_count": null,
   "id": "15763596",
   "metadata": {},
   "outputs": [],
   "source": [
    "#Extracting the name\n",
    "\n",
    "def extract_name(resume_text):\n",
    "    nlp_text = nlp(resume_text)\n",
    "    \n",
    "    # First name and Last name are always Proper Nouns\n",
    "    pattern = [{'POS': 'PROPN'}]\n",
    "    \n",
    "    matcher.add('NAME', [pattern])\n",
    "    \n",
    "    matches = matcher(nlp_text)\n",
    "    \n",
    "    for match_id, start, end in matches:\n",
    "        span = nlp_text[start:end]\n",
    "        return span.text\n",
    "\n",
    "print(extract_name(text))"
   ]
  },
  {
   "cell_type": "code",
   "execution_count": null,
   "id": "5a5724c7",
   "metadata": {},
   "outputs": [],
   "source": [
    "#Extracting Phone Number\n",
    "import re\n",
    "def extract_mobile_number(text):\n",
    "    phone = re.findall(re.compile(r'(?:(?:\\+?([1-9]|[0-9][0-9]|[0-9][0-9][0-9])\\s*(?:[.-]\\s*)?)?(?:\\(\\s*([2-9]1[02-9]|[2-9][02-8]1|[2-9][02-8][02-9])\\s*\\)|([0-9][1-9]|[0-9]1[02-9]|[2-9][02-8]1|[2-9][02-8][02-9]))\\s*(?:[.-]\\s*)?)?([2-9]1[02-9]|[2-9][02-9]1|[2-9][02-9]{2})\\s*(?:[.-]\\s*)?([0-9]{4})(?:\\s*(?:#|x\\.?|ext\\.?|extension)\\s*(\\d+))?'), text)    \n",
    "    if phone:\n",
    "        number = ''.join(phone[0])\n",
    "        if len(number) > 10:\n",
    "            return '+' + number\n",
    "        else:\n",
    "            return number\n",
    "        \n",
    "print(extract_mobile_number(text))"
   ]
  },
  {
   "cell_type": "code",
   "execution_count": null,
   "id": "bcc2c389",
   "metadata": {},
   "outputs": [],
   "source": [
    "from pyresparser import ResumeParser"
   ]
  },
  {
   "cell_type": "code",
   "execution_count": null,
   "id": "9be65a38",
   "metadata": {},
   "outputs": [],
   "source": [
    "resume_data=ResumeParser('S:/Documents/cv.docx').get_extracted_data()"
   ]
  },
  {
   "cell_type": "code",
   "execution_count": null,
   "id": "7e8bc775",
   "metadata": {},
   "outputs": [],
   "source": [
    "resume_data['name']"
   ]
  },
  {
   "cell_type": "code",
   "execution_count": null,
   "id": "80230d9e",
   "metadata": {},
   "outputs": [],
   "source": [
    "resume_data['skills']"
   ]
  },
  {
   "cell_type": "code",
   "execution_count": null,
   "id": "0c9c7a80",
   "metadata": {},
   "outputs": [],
   "source": [
    "resume_data['degree']"
   ]
  },
  {
   "cell_type": "code",
   "execution_count": null,
   "id": "d0eea2f5",
   "metadata": {},
   "outputs": [],
   "source": [
    "resume_data['total_experience']"
   ]
  },
  {
   "cell_type": "code",
   "execution_count": null,
   "id": "43f0dd6a",
   "metadata": {},
   "outputs": [],
   "source": [
    "resume_data['email']"
   ]
  },
  {
   "cell_type": "code",
   "execution_count": null,
   "id": "abec4c99",
   "metadata": {},
   "outputs": [],
   "source": [
    "resume_data['mobile_number']"
   ]
  },
  {
   "cell_type": "code",
   "execution_count": null,
   "id": "0cd31072",
   "metadata": {},
   "outputs": [],
   "source": [
    "resume_data"
   ]
  },
  {
   "cell_type": "code",
   "execution_count": null,
   "id": "507c0f7a",
   "metadata": {},
   "outputs": [],
   "source": []
  }
 ],
 "metadata": {
  "kernelspec": {
   "display_name": "resume",
   "language": "python",
   "name": "resume"
  },
  "language_info": {
   "codemirror_mode": {
    "name": "ipython",
    "version": 3
   },
   "file_extension": ".py",
   "mimetype": "text/x-python",
   "name": "python",
   "nbconvert_exporter": "python",
   "pygments_lexer": "ipython3",
   "version": "3.6.0"
  }
 },
 "nbformat": 4,
 "nbformat_minor": 5
}
